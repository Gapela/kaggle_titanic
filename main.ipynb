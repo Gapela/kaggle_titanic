{
 "cells": [
  {
   "cell_type": "code",
   "execution_count": null,
   "id": "8ef000e1",
   "metadata": {},
   "outputs": [],
   "source": [
    "# INPUT DATA"
   ]
  },
  {
   "cell_type": "code",
   "execution_count": null,
   "id": "905dda17",
   "metadata": {},
   "outputs": [],
   "source": [
    "# ETL"
   ]
  },
  {
   "cell_type": "code",
   "execution_count": null,
   "id": "a2c52d97",
   "metadata": {},
   "outputs": [],
   "source": [
    "# FIT"
   ]
  },
  {
   "cell_type": "code",
   "execution_count": null,
   "id": "0b885b31",
   "metadata": {},
   "outputs": [],
   "source": [
    "# PREDICT"
   ]
  },
  {
   "cell_type": "code",
   "execution_count": null,
   "id": "9e131f91",
   "metadata": {},
   "outputs": [],
   "source": [
    "# EVALUATE"
   ]
  }
 ],
 "metadata": {
  "kernelspec": {
   "display_name": "titanic_venv",
   "language": "python",
   "name": "python3"
  },
  "language_info": {
   "name": "python",
   "version": "3.13.2"
  }
 },
 "nbformat": 4,
 "nbformat_minor": 5
}
